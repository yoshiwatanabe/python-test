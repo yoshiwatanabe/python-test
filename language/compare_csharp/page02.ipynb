{
 "cells": [
  {
   "cell_type": "markdown",
   "metadata": {},
   "source": [
    "# Rambda expression\n",
    "\n",
    "C#\n",
    "\n",
    "``` csharp\n",
    "using System;\n",
    "using System.Linq;\n",
    "using System.Collections.Generic;\n",
    "\n",
    "public class LambdaDemo\n",
    "{\n",
    "    public static void Main()\n",
    "    {\n",
    "        // Basic lambda expression for addition\n",
    "        Func<int, int, int> add = (a, b) => a + b;\n",
    "        Console.WriteLine($\"Sum: {add(3, 4)}\"); // Output: Sum: 7\n",
    "\n",
    "        // Lambda with no parameters\n",
    "        Action greet = () => Console.WriteLine(\"Hello, C#!\");\n",
    "        greet(); // Output: Hello, C#!\n",
    "\n",
    "        // Lambda used in LINQ\n",
    "        List<int> numbers = new List<int> { 1, 2, 3, 4, 5 };\n",
    "        var evenNumbers = numbers.Where(n => n % 2 == 0).ToList();\n",
    "        Console.WriteLine($\"Even numbers: {string.Join(\", \", evenNumbers)}\"); // Output: Even numbers: 2, 4\n",
    "\n",
    "        // Lambda for inline sorting\n",
    "        var sortedNumbers = numbers.OrderByDescending(n => n).ToList();\n",
    "        Console.WriteLine($\"Sorted numbers: {string.Join(\", \", sortedNumbers)}\"); // Output: Sorted numbers: 5, 4, 3, 2, 1\n",
    "    }\n",
    "}\n",
    "\n",
    "```"
   ]
  },
  {
   "cell_type": "code",
   "execution_count": 1,
   "metadata": {},
   "outputs": [
    {
     "name": "stdout",
     "output_type": "stream",
     "text": [
      "Sum: 7\n",
      "Hello, Python!\n",
      "Even numbers: [2, 4]\n",
      "Sorted numbers: [5, 4, 3, 2, 1]\n",
      "Squared numbers: [1, 4, 9, 16, 25]\n"
     ]
    }
   ],
   "source": [
    "# Basic lambda expression for addition\n",
    "add = lambda a, b: a + b\n",
    "print(f\"Sum: {add(3, 4)}\")  # Output: Sum: 7\n",
    "\n",
    "# Lambda with no parameters\n",
    "greet = lambda: print(\"Hello, Python!\")\n",
    "greet()  # Output: Hello, Python!\n",
    "\n",
    "# Lambda used with filter\n",
    "numbers = [1, 2, 3, 4, 5]\n",
    "even_numbers = list(filter(lambda n: n % 2 == 0, numbers))\n",
    "print(f\"Even numbers: {even_numbers}\")  # Output: Even numbers: [2, 4]\n",
    "\n",
    "# Lambda used with sorting\n",
    "sorted_numbers = sorted(numbers, key=lambda n: -n)\n",
    "print(f\"Sorted numbers: {sorted_numbers}\")  # Output: Sorted numbers: [5, 4, 3, 2, 1]\n",
    "\n",
    "# Lambda with map\n",
    "squared_numbers = list(map(lambda n: n**2, numbers))\n",
    "print(f\"Squared numbers: {squared_numbers}\")  # Output: Squared numbers: [1, 4, 9, 16, 25]\n"
   ]
  },
  {
   "cell_type": "markdown",
   "metadata": {},
   "source": [
    "## Python specific Rambda expressions\n",
    "\n",
    "Rambda with default Values"
   ]
  },
  {
   "cell_type": "code",
   "execution_count": 5,
   "metadata": {},
   "outputs": [
    {
     "name": "stdout",
     "output_type": "stream",
     "text": [
      "10\n",
      "15\n"
     ]
    }
   ],
   "source": [
    "multiply = lambda a, b=2: a * b\n",
    "print(multiply(5))  # Output: 10\n",
    "print(multiply(5, 3))  # Output: 15"
   ]
  },
  {
   "cell_type": "markdown",
   "metadata": {},
   "source": [
    "Combining Rambda expressions (function composition)"
   ]
  },
  {
   "cell_type": "code",
   "execution_count": 4,
   "metadata": {},
   "outputs": [
    {
     "name": "stdout",
     "output_type": "stream",
     "text": [
      "9\n"
     ]
    }
   ],
   "source": [
    "compose = lambda f, g: lambda x: f(g(x))\n",
    "square = lambda x: x**2\n",
    "increment = lambda x: x + 1\n",
    "print(compose(square, increment)(2))  # Output: 9"
   ]
  },
  {
   "cell_type": "markdown",
   "metadata": {},
   "source": [
    "# Threading/Async\n",
    "\n",
    "C#\n",
    "\n",
    "``` csharp\n",
    "using System;\n",
    "using System.Threading;\n",
    "using System.Threading.Tasks;\n",
    "\n",
    "public class ThreadingDemo\n",
    "{\n",
    "    public static void Main()\n",
    "    {\n",
    "        // Example: Threading\n",
    "        Thread thread = new Thread(() =>\n",
    "        {\n",
    "            Console.WriteLine(\"Thread started.\");\n",
    "            Thread.Sleep(1000); // Simulates work\n",
    "            Console.WriteLine(\"Thread finished.\");\n",
    "        });\n",
    "        thread.Start();\n",
    "        thread.Join(); // Wait for thread to complete\n",
    "\n",
    "        // Example: Async/Await\n",
    "        RunAsyncExample().Wait();\n",
    "    }\n",
    "\n",
    "    public static async Task RunAsyncExample()\n",
    "    {\n",
    "        Console.WriteLine(\"Async task started.\");\n",
    "        await Task.Delay(1000); // Simulates asynchronous work\n",
    "        Console.WriteLine(\"Async task finished.\");\n",
    "    }\n",
    "\n",
    "    // Parallelism with Task\n",
    "    public static void RunParallelTasks()\n",
    "    {\n",
    "        Task task1 = Task.Run(() => DoWork(\"Task 1\"));\n",
    "        Task task2 = Task.Run(() => DoWork(\"Task 2\"));\n",
    "        Task.WaitAll(task1, task2); // Wait for both tasks to complete\n",
    "    }\n",
    "\n",
    "    private static void DoWork(string taskName)\n",
    "    {\n",
    "        Console.WriteLine($\"{taskName} started.\");\n",
    "        Thread.Sleep(2000); // Simulates work\n",
    "        Console.WriteLine($\"{taskName} finished.\");\n",
    "    }\n",
    "}\n",
    "```"
   ]
  },
  {
   "cell_type": "code",
   "execution_count": 7,
   "metadata": {},
   "outputs": [
    {
     "name": "stdout",
     "output_type": "stream",
     "text": [
      "Thread started.\n",
      "Thread finished.\n",
      "Async task started.\n",
      "Async task finished.\n",
      "Task 1 started.\n",
      "Task 2 started.\n",
      "Task 1 finished.\n",
      "Task 2 finished.\n"
     ]
    }
   ],
   "source": [
    "import threading\n",
    "import asyncio\n",
    "from time import sleep\n",
    "\n",
    "# Example: Threading\n",
    "def thread_work():\n",
    "    print(\"Thread started.\")\n",
    "    sleep(1)  # Simulates work\n",
    "    print(\"Thread finished.\")\n",
    "\n",
    "thread = threading.Thread(target=thread_work)\n",
    "thread.start()\n",
    "thread.join()  # Wait for the thread to complete\n",
    "\n",
    "# Example: Async/Await\n",
    "# Async function\n",
    "async def async_work():\n",
    "    print(\"Async task started.\")\n",
    "    await asyncio.sleep(1)  # Simulates asynchronous work\n",
    "    print(\"Async task finished.\")\n",
    "\n",
    "# Run the async function directly\n",
    "await async_work()\n",
    "\n",
    "# Parallelism with asyncio\n",
    "async def parallel_tasks():\n",
    "    task1 = asyncio.create_task(do_work(\"Task 1\"))\n",
    "    task2 = asyncio.create_task(do_work(\"Task 2\"))\n",
    "    await asyncio.gather(task1, task2)  # Run both tasks concurrently\n",
    "\n",
    "async def do_work(task_name):\n",
    "    print(f\"{task_name} started.\")\n",
    "    await asyncio.sleep(2)  # Simulates work\n",
    "    print(f\"{task_name} finished.\")\n",
    "\n",
    "# Run the parallel tasks\n",
    "await parallel_tasks()\n"
   ]
  },
  {
   "cell_type": "markdown",
   "metadata": {},
   "source": [
    "# Additional comparisons\n",
    "\n",
    "| **Feature**         | **C#**                                                                 | **Python**                                                          |\n",
    "|----------------------|-----------------------------------------------------------------------|----------------------------------------------------------------------|\n",
    "| **Threading**        | `Thread`, `Task`                                                     | `threading.Thread`                                                  |\n",
    "| **Async/Await**      | Built-in with `async`/`await`                                        | Built-in with `async def` and `await`                               |\n",
    "| **Parallelism**      | `Task.Run()`, `Parallel.For()`                                       | `asyncio.create_task()`, `asyncio.gather()`                         |\n",
    "| **Locks**            | `lock`, `Mutex`, `Semaphore`                                         | `threading.Lock`, `asyncio.Lock`                                    |\n",
    "| **File I/O**         | `StreamReader.ReadToEndAsync()`                                      | `aiofiles`                                                          |\n",
    "| **Thread Safety**    | Explicit locks or thread-safe collections                            | Explicit locks with `threading` or `asyncio`                        |\n",
    "| **CPU-bound Tasks**  | Fully supported                                                     | Use `multiprocessing` to bypass GIL                                 |\n"
   ]
  },
  {
   "cell_type": "markdown",
   "metadata": {},
   "source": [
    "# Modules\n",
    "\n",
    "| **Aspect**         | **C# Namespaces**                                   | **Python Modules**                                      |\n",
    "|---------------------|----------------------------------------------------|--------------------------------------------------------|\n",
    "| **Definition**      | Defined using `namespace`.                         | Any `.py` file is a module.                            |\n",
    "| **Hierarchy**       | Supports nested namespaces.                        | Supports nested packages with directories.             |\n",
    "| **Import Syntax**   | `using Namespace;`                                 | `import module` or `from package.module import item`.  |\n",
    "| **Static Members**  | Functions must belong to a class.                  | Functions can exist directly in a module.              |\n",
    "| **Dynamic Imports** | Not natively supported.                            | Supported via `__import__()` or `importlib`.           |\n",
    "\n",
    "This comparison should provide a clear understanding of how modules and namespaces work in both languages. Let me know if you'd like further examples or clarifications!"
   ]
  }
 ],
 "metadata": {
  "kernelspec": {
   "display_name": "Python 3",
   "language": "python",
   "name": "python3"
  },
  "language_info": {
   "codemirror_mode": {
    "name": "ipython",
    "version": 3
   },
   "file_extension": ".py",
   "mimetype": "text/x-python",
   "name": "python",
   "nbconvert_exporter": "python",
   "pygments_lexer": "ipython3",
   "version": "3.12.1"
  }
 },
 "nbformat": 4,
 "nbformat_minor": 2
}
