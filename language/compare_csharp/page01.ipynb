{
 "cells": [
  {
   "cell_type": "markdown",
   "metadata": {},
   "source": [
    "# Variable Declarations\n",
    "\n",
    "C#\n",
    "\n",
    "``` CSharp\n",
    "// Integer variable with explicit type\n",
    "int myInt = 10;\n",
    "\n",
    "// String variable with explicit type\n",
    "string myString = \"Hello, C#\";\n",
    "\n",
    "// Using var for type inference (the type is inferred to be int)\n",
    "var myInferredInt = 20;\n",
    "\n",
    "// Using dynamic (type can change at runtime)\n",
    "dynamic myDynamic = 30; // Initially an integer\n",
    "myDynamic = \"Now I'm a string\"; // Now a string\n",
    "\n",
    "// Nullable type (int? means it can hold a null value)\n",
    "int? nullableInt = null;\n",
    "\n",
    "// Constant declaration (value cannot change)\n",
    "const double Pi = 3.14159;\n",
    "\n",
    "// Readonly variable (value is set at runtime but can't change afterward)\n",
    "readonly double runtimeValue = DateTime.Now.Ticks;\n",
    "```"
   ]
  },
  {
   "cell_type": "code",
   "execution_count": 1,
   "metadata": {},
   "outputs": [],
   "source": [
    "# Integer variable (no type declaration needed)\n",
    "my_int = 10\n",
    "\n",
    "# String variable\n",
    "my_string = \"Hello, Python\"\n",
    "\n",
    "# Type can change dynamically\n",
    "my_variable = 30  # Initially an integer\n",
    "my_variable = \"Now I'm a string\"  # Now a string\n",
    "\n",
    "# Python does not have explicit \"nullable types\" like C#, but variables can hold None\n",
    "nullable_int = None  # Equivalent to null in C#\n",
    "\n",
    "# Constants: Python uses naming conventions for constants (not enforced)\n",
    "PI = 3.14159  # Conventionally written in uppercase, but can technically be reassigned\n",
    "\n",
    "# Readonly variables are not directly supported. Use properties in a class to achieve similar functionality.\n",
    "\n",
    "# Python-specific: Unpacking multiple variables\n",
    "x, y, z = 1, 2, 3  # Simultaneously assigns 1 to x, 2 to y, and 3 to z\n",
    "\n",
    "# Python-specific: Using type hints (optional)\n",
    "my_int: int = 10\n",
    "my_string: str = \"Hello, Python\"\n"
   ]
  },
  {
   "cell_type": "markdown",
   "metadata": {},
   "source": [
    "# Method Definition\n",
    "\n",
    "C#\n",
    "\n",
    "``` csharp\n",
    "// A basic method with an explicit return type and parameter types\n",
    "public int Add(int a, int b)\n",
    "{\n",
    "    return a + b;\n",
    "}\n",
    "\n",
    "// A void method (no return value)\n",
    "public void PrintMessage(string message)\n",
    "{\n",
    "    Console.WriteLine(message);\n",
    "}\n",
    "\n",
    "// Overloading methods (same name, different parameters)\n",
    "public int Multiply(int a, int b)\n",
    "{\n",
    "    return a * b;\n",
    "}\n",
    "\n",
    "public double Multiply(double a, double b)\n",
    "{\n",
    "    return a * b;\n",
    "}\n",
    "\n",
    "// Static method (does not require an instance to call)\n",
    "public static int StaticAdd(int a, int b)\n",
    "{\n",
    "    return a + b;\n",
    "}\n",
    "\n",
    "// Asynchronous method with Task return type\n",
    "public async Task<string> GetDataAsync()\n",
    "{\n",
    "    await Task.Delay(1000); // Simulate delay\n",
    "    return \"Async data\";\n",
    "}\n",
    "```\n"
   ]
  },
  {
   "cell_type": "code",
   "execution_count": 2,
   "metadata": {},
   "outputs": [],
   "source": [
    "# Basic method (functions in Python)\n",
    "def add(a, b):\n",
    "    return a + b\n",
    "\n",
    "# Void equivalent (returns None if no return statement is present)\n",
    "def print_message(message):\n",
    "    print(message)\n",
    "\n",
    "# No direct method overloading, but can use default arguments or dynamic behavior\n",
    "def multiply(a, b=1):\n",
    "    return a * b\n",
    "\n",
    "# Static methods: Use @staticmethod decorator\n",
    "class MathUtils:\n",
    "    @staticmethod\n",
    "    def static_add(a, b):\n",
    "        return a + b\n",
    "\n",
    "# Asynchronous method using async/await\n",
    "import asyncio\n",
    "\n",
    "async def get_data_async():\n",
    "    await asyncio.sleep(1)  # Simulate delay\n",
    "    return \"Async data\"\n"
   ]
  },
  {
   "cell_type": "markdown",
   "metadata": {},
   "source": [
    "# Classes\n",
    "\n",
    "C#\n",
    "\n",
    "``` csharp\n",
    "// A basic class with fields, properties, methods, and a constructor\n",
    "public class Person\n",
    "{\n",
    "    // Fields\n",
    "    private string name;\n",
    "    private int age;\n",
    "\n",
    "    // Property with getter and setter\n",
    "    public string Name\n",
    "    {\n",
    "        get { return name; }\n",
    "        set { name = value; }\n",
    "    }\n",
    "\n",
    "    // Auto-implemented property\n",
    "    public int Age { get; set; }\n",
    "\n",
    "    // Constructor\n",
    "    public Person(string name, int age)\n",
    "    {\n",
    "        this.name = name;\n",
    "        this.Age = age;\n",
    "    }\n",
    "\n",
    "    // Method\n",
    "    public void SayHello()\n",
    "    {\n",
    "        Console.WriteLine($\"Hello, my name is {name} and I am {age} years old.\");\n",
    "    }\n",
    "\n",
    "    // Static method\n",
    "    public static void DescribeClass()\n",
    "    {\n",
    "        Console.WriteLine(\"This is a Person class.\");\n",
    "    }\n",
    "}\n",
    "\n",
    "// Using the class\n",
    "var person = new Person(\"Alice\", 30);\n",
    "person.SayHello();\n",
    "Person.DescribeClass();\n",
    "```"
   ]
  },
  {
   "cell_type": "code",
   "execution_count": 3,
   "metadata": {},
   "outputs": [
    {
     "name": "stdout",
     "output_type": "stream",
     "text": [
      "Hello, my name is Alice and I am 30 years old.\n",
      "This is a Person class.\n"
     ]
    }
   ],
   "source": [
    "# A basic class with attributes, methods, and a constructor\n",
    "class Person:\n",
    "    # Constructor\n",
    "    def __init__(self, name, age):\n",
    "        self.name = name  # Public attribute\n",
    "        self._age = age   # Protected attribute (by convention, not enforced)\n",
    "\n",
    "    # Property with getter and setter\n",
    "    @property\n",
    "    def age(self):\n",
    "        return self._age\n",
    "\n",
    "    @age.setter\n",
    "    def age(self, value):\n",
    "        if value < 0:\n",
    "            raise ValueError(\"Age cannot be negative\")\n",
    "        self._age = value\n",
    "\n",
    "    # Method\n",
    "    def say_hello(self):\n",
    "        print(f\"Hello, my name is {self.name} and I am {self._age} years old.\")\n",
    "\n",
    "    # Static method\n",
    "    @staticmethod\n",
    "    def describe_class():\n",
    "        print(\"This is a Person class.\")\n",
    "\n",
    "# Using the class\n",
    "person = Person(\"Alice\", 30)\n",
    "person.say_hello()\n",
    "Person.describe_class()\n"
   ]
  },
  {
   "cell_type": "markdown",
   "metadata": {},
   "source": [
    "# Properties\n",
    "\n",
    "C#\n",
    "\n",
    "``` csharp\n",
    "// A class demonstrating properties in C#\n",
    "public class Person\n",
    "{\n",
    "    // Auto-implemented property with getter and setter\n",
    "    public string Name { get; set; }\n",
    "\n",
    "    // Property with a private field and custom getter/setter logic\n",
    "    private int age;\n",
    "\n",
    "    public int Age\n",
    "    {\n",
    "        get { return age; }\n",
    "        set\n",
    "        {\n",
    "            if (value < 0)\n",
    "            {\n",
    "                throw new ArgumentException(\"Age cannot be negative\");\n",
    "            }\n",
    "            age = value;\n",
    "        }\n",
    "    }\n",
    "\n",
    "    // Read-only property (no setter)\n",
    "    public string Description\n",
    "    {\n",
    "        get { return $\"{Name}, {Age} years old\"; }\n",
    "    }\n",
    "\n",
    "    // Property with a private setter\n",
    "    public string Secret { get; private set; }\n",
    "\n",
    "    public Person(string name, int age, string secret)\n",
    "    {\n",
    "        Name = name;\n",
    "        Age = age;\n",
    "        Secret = secret;\n",
    "    }\n",
    "}\n",
    "\n",
    "// Usage\n",
    "var person = new Person(\"Alice\", 30, \"Loves chocolate\");\n",
    "Console.WriteLine(person.Description);  // Output: Alice, 30 years old\n",
    "person.Age = 35;  // Allowed\n",
    "// person.Secret = \"New secret\"; // Error: Cannot set private property\n",
    "```"
   ]
  },
  {
   "cell_type": "code",
   "execution_count": 4,
   "metadata": {},
   "outputs": [
    {
     "name": "stdout",
     "output_type": "stream",
     "text": [
      "Alice, 30 years old\n"
     ]
    }
   ],
   "source": [
    "# A class demonstrating properties in Python\n",
    "class Person:\n",
    "    def __init__(self, name, age, secret):\n",
    "        self.name = name  # Public attribute\n",
    "        self._age = age   # Protected attribute (by convention)\n",
    "        self._secret = secret  # Private-like attribute (not enforced)\n",
    "\n",
    "    # Property with getter and setter\n",
    "    @property\n",
    "    def age(self):\n",
    "        return self._age\n",
    "\n",
    "    @age.setter\n",
    "    def age(self, value):\n",
    "        if value < 0:\n",
    "            raise ValueError(\"Age cannot be negative\")\n",
    "        self._age = value\n",
    "\n",
    "    # Read-only property\n",
    "    @property\n",
    "    def description(self):\n",
    "        return f\"{self.name}, {self._age} years old\"\n",
    "\n",
    "    # Property with a private-like setter\n",
    "    @property\n",
    "    def secret(self):\n",
    "        return self._secret\n",
    "\n",
    "    # No explicit private setter, but protected by convention\n",
    "    def _set_secret(self, value):\n",
    "        self._secret = value\n",
    "\n",
    "# Usage\n",
    "person = Person(\"Alice\", 30, \"Loves chocolate\")\n",
    "print(person.description)  # Output: Alice, 30 years old\n",
    "person.age = 35  # Allowed\n",
    "# person.secret = \"New secret\"  # Error: AttributeError because there's no setter\n"
   ]
  },
  {
   "cell_type": "markdown",
   "metadata": {},
   "source": [
    "# Exception Handling\n",
    "\n",
    "C#\n",
    "\n",
    "``` csharp\n",
    "// Basic exception handling\n",
    "try\n",
    "{\n",
    "    int result = 10 / 0; // This will throw a DivideByZeroException\n",
    "}\n",
    "catch (DivideByZeroException ex)\n",
    "{\n",
    "    Console.WriteLine($\"Caught an exception: {ex.Message}\");\n",
    "}\n",
    "catch (Exception ex)\n",
    "{\n",
    "    Console.WriteLine($\"An unexpected exception occurred: {ex.Message}\");\n",
    "}\n",
    "finally\n",
    "{\n",
    "    Console.WriteLine(\"This block always executes.\");\n",
    "}\n",
    "\n",
    "// Throwing exceptions\n",
    "void CheckValue(int value)\n",
    "{\n",
    "    if (value < 0)\n",
    "    {\n",
    "        throw new ArgumentException(\"Value cannot be negative\");\n",
    "    }\n",
    "}\n",
    "\n",
    "// Custom exception\n",
    "public class CustomException : Exception\n",
    "{\n",
    "    public CustomException(string message) : base(message) { }\n",
    "}\n",
    "\n",
    "```"
   ]
  },
  {
   "cell_type": "code",
   "execution_count": 5,
   "metadata": {},
   "outputs": [
    {
     "name": "stdout",
     "output_type": "stream",
     "text": [
      "Caught an exception: division by zero\n",
      "This block always executes.\n"
     ]
    }
   ],
   "source": [
    "# Basic exception handling\n",
    "try:\n",
    "    result = 10 / 0  # This will raise a ZeroDivisionError\n",
    "except ZeroDivisionError as ex:\n",
    "    print(f\"Caught an exception: {ex}\")\n",
    "except Exception as ex:\n",
    "    print(f\"An unexpected exception occurred: {ex}\")\n",
    "finally:\n",
    "    print(\"This block always executes.\")\n",
    "\n",
    "# Raising exceptions\n",
    "def check_value(value):\n",
    "    if value < 0:\n",
    "        raise ValueError(\"Value cannot be negative\")\n",
    "\n",
    "# Custom exception\n",
    "class CustomException(Exception):\n",
    "    def __init__(self, message):\n",
    "        super().__init__(message)\n"
   ]
  },
  {
   "cell_type": "markdown",
   "metadata": {},
   "source": [
    "## Python specific execption handling feature\n",
    "\n",
    "Catching multiple exceptions"
   ]
  },
  {
   "cell_type": "code",
   "execution_count": 6,
   "metadata": {},
   "outputs": [
    {
     "name": "stdout",
     "output_type": "stream",
     "text": [
      "Caught an exception: division by zero\n"
     ]
    }
   ],
   "source": [
    "try:\n",
    "    result = 10 / 0\n",
    "except (ZeroDivisionError, ValueError) as ex:\n",
    "    print(f\"Caught an exception: {ex}\")\n"
   ]
  },
  {
   "cell_type": "markdown",
   "metadata": {},
   "source": [
    "'Else' in try-except-finally"
   ]
  },
  {
   "cell_type": "code",
   "execution_count": 7,
   "metadata": {},
   "outputs": [
    {
     "name": "stdout",
     "output_type": "stream",
     "text": [
      "Division succeeded!\n",
      "Cleanup!\n"
     ]
    }
   ],
   "source": [
    "try:\n",
    "    result = 10 / 2\n",
    "except ZeroDivisionError:\n",
    "    print(\"Division by zero!\")\n",
    "else:\n",
    "    print(\"Division succeeded!\")\n",
    "finally:\n",
    "    print(\"Cleanup!\")\n"
   ]
  },
  {
   "cell_type": "markdown",
   "metadata": {},
   "source": [
    "# Collections\n",
    "\n",
    "C#\n",
    "\n",
    "``` csharp\n",
    "using System;\n",
    "using System.Collections.Generic;\n",
    "\n",
    "public class CollectionsDemo\n",
    "{\n",
    "    public static void Main()\n",
    "    {\n",
    "        // List: A dynamic array\n",
    "        List<int> numbers = new List<int> { 1, 2, 3 };\n",
    "        numbers.Add(4);\n",
    "        Console.WriteLine($\"List: {string.Join(\", \", numbers)}\");\n",
    "\n",
    "        // Dictionary: Key-value pairs\n",
    "        Dictionary<string, int> ages = new Dictionary<string, int>\n",
    "        {\n",
    "            { \"Alice\", 30 },\n",
    "            { \"Bob\", 25 }\n",
    "        };\n",
    "        Console.WriteLine($\"Alice's age: {ages[\"Alice\"]}\");\n",
    "\n",
    "        // HashSet: A set with unique elements\n",
    "        HashSet<int> uniqueNumbers = new HashSet<int> { 1, 2, 2, 3 };\n",
    "        Console.WriteLine($\"HashSet: {string.Join(\", \", uniqueNumbers)}\");\n",
    "\n",
    "        // Queue: First-In-First-Out (FIFO)\n",
    "        Queue<string> queue = new Queue<string>();\n",
    "        queue.Enqueue(\"First\");\n",
    "        queue.Enqueue(\"Second\");\n",
    "        Console.WriteLine($\"Queue peek: {queue.Peek()}\");\n",
    "\n",
    "        // Stack: Last-In-First-Out (LIFO)\n",
    "        Stack<string> stack = new Stack<string>();\n",
    "        stack.Push(\"Last\");\n",
    "        stack.Push(\"First\");\n",
    "        Console.WriteLine($\"Stack peek: {stack.Peek()}\");\n",
    "    }\n",
    "}\n",
    "```"
   ]
  },
  {
   "cell_type": "code",
   "execution_count": 8,
   "metadata": {},
   "outputs": [
    {
     "name": "stdout",
     "output_type": "stream",
     "text": [
      "List: [1, 2, 3, 4]\n",
      "Alice's age: 30\n",
      "Set: {1, 2, 3}\n",
      "Queue peek: First\n",
      "Stack peek: First\n"
     ]
    }
   ],
   "source": [
    "# List: A dynamic array\n",
    "numbers = [1, 2, 3]\n",
    "numbers.append(4)\n",
    "print(f\"List: {numbers}\")\n",
    "\n",
    "# Dictionary: Key-value pairs\n",
    "ages = {\n",
    "    \"Alice\": 30,\n",
    "    \"Bob\": 25\n",
    "}\n",
    "print(f\"Alice's age: {ages['Alice']}\")\n",
    "\n",
    "# Set: A collection of unique elements\n",
    "unique_numbers = {1, 2, 2, 3}\n",
    "print(f\"Set: {unique_numbers}\")\n",
    "\n",
    "# Queue: First-In-First-Out (FIFO)\n",
    "from collections import deque\n",
    "queue = deque()\n",
    "queue.append(\"First\")\n",
    "queue.append(\"Second\")\n",
    "print(f\"Queue peek: {queue[0]}\")\n",
    "\n",
    "# Stack: Last-In-First-Out (LIFO)\n",
    "stack = []\n",
    "stack.append(\"Last\")\n",
    "stack.append(\"First\")\n",
    "print(f\"Stack peek: {stack[-1]}\")\n"
   ]
  },
  {
   "cell_type": "markdown",
   "metadata": {},
   "source": [
    "## Python specific collection\n",
    "\n",
    "Tuples"
   ]
  },
  {
   "cell_type": "code",
   "execution_count": 1,
   "metadata": {},
   "outputs": [],
   "source": [
    "coordinates = (10, 20)\n",
    "x, y = coordinates  # Unpacking"
   ]
  },
  {
   "cell_type": "markdown",
   "metadata": {},
   "source": [
    "Comprehensitions"
   ]
  },
  {
   "cell_type": "code",
   "execution_count": 2,
   "metadata": {},
   "outputs": [],
   "source": [
    "squares = [x**2 for x in range(5)]  # List comprehension\n"
   ]
  },
  {
   "cell_type": "markdown",
   "metadata": {},
   "source": [
    "Nested comprehensions"
   ]
  },
  {
   "cell_type": "code",
   "execution_count": 3,
   "metadata": {},
   "outputs": [
    {
     "name": "stdout",
     "output_type": "stream",
     "text": [
      "[1, 2, 3, 4, 5, 6]\n"
     ]
    }
   ],
   "source": [
    "matrix = [[1, 2], [3, 4], [5, 6]]\n",
    "flat = [x for row in matrix for x in row]\n",
    "print(flat)  # Output: [1, 2, 3, 4, 5, 6]"
   ]
  },
  {
   "cell_type": "markdown",
   "metadata": {},
   "source": [
    "Defult dictionary"
   ]
  },
  {
   "cell_type": "code",
   "execution_count": 4,
   "metadata": {},
   "outputs": [
    {
     "name": "stdout",
     "output_type": "stream",
     "text": [
      "defaultdict(<class 'int'>, {'h': 1, 'e': 1, 'l': 3, 'o': 2, ' ': 1, 'w': 1, 'r': 1, 'd': 1})\n"
     ]
    }
   ],
   "source": [
    "from collections import defaultdict\n",
    "\n",
    "# Create a defaultdict with int as the default factory\n",
    "counts = defaultdict(int)\n",
    "\n",
    "# Count occurrences\n",
    "for char in \"hello world\":\n",
    "    counts[char] += 1\n",
    "\n",
    "print(counts)  # Output: defaultdict(<class 'int'>, {'h': 1, 'e': 1, 'l': 3, ...})"
   ]
  }
 ],
 "metadata": {
  "kernelspec": {
   "display_name": "Python 3",
   "language": "python",
   "name": "python3"
  },
  "language_info": {
   "codemirror_mode": {
    "name": "ipython",
    "version": 3
   },
   "file_extension": ".py",
   "mimetype": "text/x-python",
   "name": "python",
   "nbconvert_exporter": "python",
   "pygments_lexer": "ipython3",
   "version": "3.12.1"
  }
 },
 "nbformat": 4,
 "nbformat_minor": 2
}
