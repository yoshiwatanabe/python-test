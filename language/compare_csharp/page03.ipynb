{
 "cells": [
  {
   "cell_type": "markdown",
   "metadata": {},
   "source": [
    "# Python feature that are not available in C#\n",
    "\n",
    "\n",
    "| **Aspect**                     | **C# Specification**                                             | **Python Specification**                                                          |\n",
    "|--------------------------------|------------------------------------------------------------------|-----------------------------------------------------------------------------------|\n",
    "| **Duck Typing**                | Not supported                                                   | Functions work with any object meeting the interface, regardless of its type      |\n",
    "| **First-Class Functions**      | Functions are objects but require explicit delegate types       | Functions are first-class objects; can be passed as arguments and returned        |\n",
    "| **Comprehensions**             | Not supported                                                   | Supports list, dictionary, and set comprehensions (e.g., `[x**2 for x in range(5)]`) |\n",
    "| **Dynamic Code Execution**     | Limited (`System.Reflection.Emit` or external scripting)        | Directly supports dynamic code execution using `exec()` and `eval()`              |\n",
    "| **Decorators**                 | Not directly supported                                          | Functionality and classes can be modified with decorators (e.g., `@staticmethod`) |\n",
    "| **Slicing**                    | Limited to some APIs                                            | Built-in slicing syntax for sequences (e.g., `my_list[1:4]`)                      |\n"
   ]
  },
  {
   "cell_type": "markdown",
   "metadata": {},
   "source": [
    "# Duck typing\n",
    "\n",
    "C# does not have one but interface is the closest concept.\n",
    "\n",
    "``` csharp\n",
    "using System;\n",
    "\n",
    "public interface IQuackable\n",
    "{\n",
    "    void Quack();\n",
    "}\n",
    "\n",
    "public class Duck : IQuackable\n",
    "{\n",
    "    public void Quack()\n",
    "    {\n",
    "        Console.WriteLine(\"Duck says Quack!\");\n",
    "    }\n",
    "}\n",
    "\n",
    "public class Human : IQuackable\n",
    "{\n",
    "    public void Quack()\n",
    "    {\n",
    "        Console.WriteLine(\"Human says Quack!\");\n",
    "    }\n",
    "}\n",
    "\n",
    "public class Program\n",
    "{\n",
    "    public static void Main()\n",
    "    {\n",
    "        IQuackable[] quackables = { new Duck(), new Human() };\n",
    "\n",
    "        foreach (var quackable in quackables)\n",
    "        {\n",
    "            quackable.Quack(); // Works because all implement IQuackable\n",
    "        }\n",
    "    }\n",
    "}\n",
    "```"
   ]
  },
  {
   "cell_type": "code",
   "execution_count": 1,
   "metadata": {},
   "outputs": [
    {
     "name": "stdout",
     "output_type": "stream",
     "text": [
      "Duck says Quack!\n",
      "Human says Quack!\n"
     ]
    }
   ],
   "source": [
    "class Duck:\n",
    "    def quack(self):\n",
    "        print(\"Duck says Quack!\")\n",
    "\n",
    "class Human:\n",
    "    def quack(self):\n",
    "        print(\"Human says Quack!\")\n",
    "\n",
    "# A function that accepts any object that can 'quack'\n",
    "def make_it_quack(quackable):\n",
    "    quackable.quack()\n",
    "\n",
    "# Works as long as the passed object has a 'quack' method\n",
    "duck = Duck()\n",
    "human = Human()\n",
    "\n",
    "make_it_quack(duck)   # Output: Duck says Quack!\n",
    "make_it_quack(human)  # Output: Human says Quack!\n"
   ]
  },
  {
   "cell_type": "markdown",
   "metadata": {},
   "source": [
    "# First-Class Functions\n",
    "\n",
    "``` csharp\n",
    "using System;\n",
    "using System.Collections.Generic;\n",
    "\n",
    "public class FirstClassFunctions\n",
    "{\n",
    "    public static void Main()\n",
    "    {\n",
    "        // Assign a lambda to a Func delegate\n",
    "        Func<int, int, int> add = (a, b) => a + b;\n",
    "        Console.WriteLine($\"Sum: {add(2, 3)}\"); // Output: Sum: 5\n",
    "\n",
    "        // Passing a function as an argument\n",
    "        PerformOperation(10, 20, add); // Output: Result: 30\n",
    "\n",
    "        // Returning a function from another function\n",
    "        Func<int, int> multiplyBy2 = GetMultiplier(2);\n",
    "        Console.WriteLine($\"2 x 3 = {multiplyBy2(3)}\"); // Output: 2 x 3 = 6\n",
    "\n",
    "        // Storing functions in a list\n",
    "        var operations = new List<Func<int, int, int>>\n",
    "        {\n",
    "            (a, b) => a + b,\n",
    "            (a, b) => a - b\n",
    "        };\n",
    "\n",
    "        foreach (var operation in operations)\n",
    "        {\n",
    "            Console.WriteLine(operation(5, 3)); // Output: 8, then 2\n",
    "        }\n",
    "    }\n",
    "\n",
    "    public static void PerformOperation(int a, int b, Func<int, int, int> operation)\n",
    "    {\n",
    "        Console.WriteLine($\"Result: {operation(a, b)}\");\n",
    "    }\n",
    "\n",
    "    public static Func<int, int> GetMultiplier(int factor)\n",
    "    {\n",
    "        return (x) => x * factor;\n",
    "    }\n",
    "}\n",
    "\n",
    "```"
   ]
  },
  {
   "cell_type": "code",
   "execution_count": 2,
   "metadata": {},
   "outputs": [
    {
     "name": "stdout",
     "output_type": "stream",
     "text": [
      "Sum: 5\n",
      "Result: 30\n",
      "2 x 3 = 6\n",
      "8\n",
      "2\n"
     ]
    }
   ],
   "source": [
    "# Assigning a function to a variable\n",
    "def add(a, b):\n",
    "    return a + b\n",
    "\n",
    "add_function = add\n",
    "print(f\"Sum: {add_function(2, 3)}\")  # Output: Sum: 5\n",
    "\n",
    "# Passing a function as an argument\n",
    "def perform_operation(a, b, operation):\n",
    "    print(f\"Result: {operation(a, b)}\")\n",
    "\n",
    "perform_operation(10, 20, add)  # Output: Result: 30\n",
    "\n",
    "# Returning a function from another function\n",
    "def get_multiplier(factor):\n",
    "    def multiplier(x):\n",
    "        return x * factor\n",
    "    return multiplier\n",
    "\n",
    "multiply_by_2 = get_multiplier(2)\n",
    "print(f\"2 x 3 = {multiply_by_2(3)}\")  # Output: 2 x 3 = 6\n",
    "\n",
    "# Storing functions in a list\n",
    "operations = [\n",
    "    lambda a, b: a + b,\n",
    "    lambda a, b: a - b\n",
    "]\n",
    "\n",
    "for operation in operations:\n",
    "    print(operation(5, 3))  # Output: 8, then 2\n"
   ]
  },
  {
   "cell_type": "markdown",
   "metadata": {},
   "source": [
    "# Comprehensions\n",
    "\n",
    "C# does not have direct equivalents but have similar feature with LINQ\n",
    "\n",
    "``` csharp\n",
    "using System;\n",
    "using System.Linq;\n",
    "using System.Collections.Generic;\n",
    "\n",
    "public class ComprehensionDemo\n",
    "{\n",
    "    public static void Main()\n",
    "    {\n",
    "        // List of squares\n",
    "        var squares = Enumerable.Range(0, 10).Select(x => x * x).ToList();\n",
    "        Console.WriteLine($\"Squares: {string.Join(\", \", squares)}\");\n",
    "\n",
    "        // List of even squares\n",
    "        var evenSquares = Enumerable.Range(0, 10)\n",
    "                                     .Where(x => x % 2 == 0)\n",
    "                                     .Select(x => x * x)\n",
    "                                     .ToList();\n",
    "        Console.WriteLine($\"Even Squares: {string.Join(\", \", evenSquares)}\");\n",
    "\n",
    "        // Dictionary comprehension equivalent\n",
    "        var squaredDict = Enumerable.Range(0, 5)\n",
    "                                     .ToDictionary(x => x, x => x * x);\n",
    "        Console.WriteLine(\"Squared Dictionary:\");\n",
    "        foreach (var kvp in squaredDict)\n",
    "        {\n",
    "            Console.WriteLine($\"{kvp.Key}: {kvp.Value}\");\n",
    "        }\n",
    "\n",
    "        // Flattening\n",
    "        var nestedList = new List<List<int>> { new List<int> { 1, 2 }, new List<int> { 3, 4 }, new List<int> { 5, 6 } };\n",
    "        var flattened = nestedList.SelectMany(sublist => sublist).ToList();\n",
    "        Console.WriteLine($\"Flattened: {string.Join(\", \", flattened)}\"); // Output: 1, 2, 3, 4, 5, 6\n",
    "\n",
    "    }\n",
    "}\n",
    "\n",
    "```\n",
    "\n",
    "## List Comprehension"
   ]
  },
  {
   "cell_type": "code",
   "execution_count": 1,
   "metadata": {},
   "outputs": [
    {
     "name": "stdout",
     "output_type": "stream",
     "text": [
      "[0, 1, 4, 9, 16, 25, 36, 49, 64, 81]\n",
      "[0, 4, 16, 36, 64]\n"
     ]
    }
   ],
   "source": [
    "# Create a list of squares\n",
    "squares = [x**2 for x in range(10)]\n",
    "print(squares)  # Output: [0, 1, 4, 9, 16, 25, 36, 49, 64, 81]\n",
    "\n",
    "# Add a condition to filter even numbers\n",
    "even_squares = [x**2 for x in range(10) if x % 2 == 0]\n",
    "print(even_squares)  # Output: [0, 4, 16, 36, 64]"
   ]
  },
  {
   "cell_type": "markdown",
   "metadata": {},
   "source": [
    "## Set Comprehension"
   ]
  },
  {
   "cell_type": "code",
   "execution_count": 2,
   "metadata": {},
   "outputs": [
    {
     "name": "stdout",
     "output_type": "stream",
     "text": [
      "{1, 4, 9}\n"
     ]
    }
   ],
   "source": [
    "# Create a set of unique squares\n",
    "unique_squares = {x**2 for x in [1, 2, 2, 3, 3, 3]}\n",
    "print(unique_squares)  # Output: {1, 4, 9}"
   ]
  },
  {
   "cell_type": "markdown",
   "metadata": {},
   "source": [
    "## Dictionary Comprehension"
   ]
  },
  {
   "cell_type": "code",
   "execution_count": 3,
   "metadata": {},
   "outputs": [
    {
     "name": "stdout",
     "output_type": "stream",
     "text": [
      "{0: 0, 1: 1, 2: 4, 3: 9, 4: 16}\n"
     ]
    }
   ],
   "source": [
    "# Create a dictionary with keys and values\n",
    "squared_dict = {x: x**2 for x in range(5)}\n",
    "print(squared_dict)  # Output: {0: 0, 1: 1, 2: 4, 3: 9, 4: 16}"
   ]
  },
  {
   "cell_type": "markdown",
   "metadata": {},
   "source": [
    "## Nested Comprehension"
   ]
  },
  {
   "cell_type": "code",
   "execution_count": 5,
   "metadata": {},
   "outputs": [
    {
     "name": "stdout",
     "output_type": "stream",
     "text": [
      "[[0, 0, 0], [0, 1, 2], [0, 2, 4], [0, 3, 6]]\n"
     ]
    }
   ],
   "source": [
    "# Create a matrix as a nested list comprehension\n",
    "matrix = [[x * y for y in range(3)] for x in range(4)]\n",
    "print(matrix)  # Output: [[0, 0, 0], [0, 1, 2], [0, 2, 4]]"
   ]
  },
  {
   "cell_type": "markdown",
   "metadata": {},
   "source": [
    "## Comprehensions with Multiple conditions"
   ]
  },
  {
   "cell_type": "code",
   "execution_count": 6,
   "metadata": {},
   "outputs": [
    {
     "name": "stdout",
     "output_type": "stream",
     "text": [
      "[0, 6, 12, 18]\n"
     ]
    }
   ],
   "source": [
    "# Filter numbers divisible by both 2 and 3\n",
    "filtered_numbers = [x for x in range(20) if x % 2 == 0 and x % 3 == 0]\n",
    "print(filtered_numbers)  # Output: [0, 6, 12, 18]"
   ]
  },
  {
   "cell_type": "markdown",
   "metadata": {},
   "source": [
    "## Nested Comprehension with Flattening"
   ]
  },
  {
   "cell_type": "code",
   "execution_count": 7,
   "metadata": {},
   "outputs": [
    {
     "name": "stdout",
     "output_type": "stream",
     "text": [
      "[1, 2, 3, 4, 5, 6]\n"
     ]
    }
   ],
   "source": [
    "# Flatten a 2D list\n",
    "nested_list = [[1, 2], [3, 4], [5, 6]]\n",
    "flattened = [item for sublist in nested_list for item in sublist]\n",
    "print(flattened)  # Output: [1, 2, 3, 4, 5, 6]\n"
   ]
  },
  {
   "cell_type": "markdown",
   "metadata": {},
   "source": [
    "# Decorator\n",
    "\n",
    "Decorators in Python are a powerful feature that allows you to modify or extend the behavior of functions or methods without permanently modifying their code. They are essentially higher-order functions that take a function as input and return a new function.\n",
    "\n",
    "## Basic Function Decorator "
   ]
  },
  {
   "cell_type": "code",
   "execution_count": 8,
   "metadata": {},
   "outputs": [
    {
     "name": "stdout",
     "output_type": "stream",
     "text": [
      "Something is happening before the function is called.\n",
      "Hello!\n",
      "Something is happening after the function is called.\n"
     ]
    }
   ],
   "source": [
    "# A simple decorator\n",
    "def my_decorator(func):\n",
    "    def wrapper():\n",
    "        print(\"Something is happening before the function is called.\")\n",
    "        func()\n",
    "        print(\"Something is happening after the function is called.\")\n",
    "    return wrapper\n",
    "\n",
    "@my_decorator  # Apply the decorator\n",
    "def say_hello():\n",
    "    print(\"Hello!\")\n",
    "\n",
    "say_hello()\n",
    "# Output:\n",
    "# Something is happening before the function is called.\n",
    "# Hello!\n",
    "# Something is happening after the function is called.\n"
   ]
  },
  {
   "cell_type": "markdown",
   "metadata": {},
   "source": [
    "## Decorator with Arguments"
   ]
  },
  {
   "cell_type": "code",
   "execution_count": 9,
   "metadata": {},
   "outputs": [
    {
     "name": "stdout",
     "output_type": "stream",
     "text": [
      "Hello!\n",
      "Hello!\n",
      "Hello!\n"
     ]
    }
   ],
   "source": [
    "# A decorator that takes arguments\n",
    "def repeat(times):\n",
    "    def decorator(func):\n",
    "        def wrapper(*args, **kwargs):\n",
    "            for _ in range(times):\n",
    "                func(*args, **kwargs)\n",
    "        return wrapper\n",
    "    return decorator\n",
    "\n",
    "@repeat(3)  # Repeat the decorated function 3 times\n",
    "def say_hello():\n",
    "    print(\"Hello!\")\n",
    "\n",
    "say_hello()\n",
    "# Output:\n",
    "# Hello!\n",
    "# Hello!\n",
    "# Hello!\n"
   ]
  },
  {
   "cell_type": "markdown",
   "metadata": {},
   "source": [
    "## Method Decorator"
   ]
  },
  {
   "cell_type": "code",
   "execution_count": 10,
   "metadata": {},
   "outputs": [
    {
     "name": "stdout",
     "output_type": "stream",
     "text": [
      "Calling say_hello\n",
      "Hello from Greeter!\n"
     ]
    }
   ],
   "source": [
    "class Greeter:\n",
    "    @staticmethod\n",
    "    def decorator(func):\n",
    "        def wrapper(*args, **kwargs):\n",
    "            print(f\"Calling {func.__name__}\")\n",
    "            return func(*args, **kwargs)\n",
    "        return wrapper\n",
    "\n",
    "    @decorator  # Apply the decorator\n",
    "    def say_hello(self):\n",
    "        print(\"Hello from Greeter!\")\n",
    "\n",
    "greeter = Greeter()\n",
    "greeter.say_hello()\n",
    "# Output:\n",
    "# Calling say_hello\n",
    "# Hello from Greeter!\n"
   ]
  },
  {
   "cell_type": "markdown",
   "metadata": {},
   "source": [
    "## Decorator for Class"
   ]
  },
  {
   "cell_type": "code",
   "execution_count": 11,
   "metadata": {},
   "outputs": [
    {
     "name": "stdout",
     "output_type": "stream",
     "text": [
      "Greetings!\n"
     ]
    }
   ],
   "source": [
    "# Class decorator\n",
    "def add_greet_method(cls):\n",
    "    cls.greet = lambda self: print(\"Greetings!\")\n",
    "    return cls\n",
    "\n",
    "@add_greet_method\n",
    "class Person:\n",
    "    pass\n",
    "\n",
    "person = Person()\n",
    "person.greet()  # Output: Greetings!\n"
   ]
  },
  {
   "cell_type": "markdown",
   "metadata": {},
   "source": [
    "## Logging Decrator"
   ]
  },
  {
   "cell_type": "code",
   "execution_count": 12,
   "metadata": {},
   "outputs": [
    {
     "name": "stdout",
     "output_type": "stream",
     "text": [
      "Function add called with args: (3, 4), kwargs: {}\n",
      "Function add returned: 7\n"
     ]
    },
    {
     "data": {
      "text/plain": [
       "7"
      ]
     },
     "execution_count": 12,
     "metadata": {},
     "output_type": "execute_result"
    }
   ],
   "source": [
    "def log(func):\n",
    "    def wrapper(*args, **kwargs):\n",
    "        print(f\"Function {func.__name__} called with args: {args}, kwargs: {kwargs}\")\n",
    "        result = func(*args, **kwargs)\n",
    "        print(f\"Function {func.__name__} returned: {result}\")\n",
    "        return result\n",
    "    return wrapper\n",
    "\n",
    "@log\n",
    "def add(a, b):\n",
    "    return a + b\n",
    "\n",
    "add(3, 4)\n",
    "# Output:\n",
    "# Function add called with args: (3, 4), kwargs: {}\n",
    "# Function add returned: 7\n"
   ]
  },
  {
   "cell_type": "markdown",
   "metadata": {},
   "source": [
    "## Caching Decorator"
   ]
  },
  {
   "cell_type": "code",
   "execution_count": 13,
   "metadata": {},
   "outputs": [
    {
     "name": "stdout",
     "output_type": "stream",
     "text": [
      "55\n"
     ]
    }
   ],
   "source": [
    "def memoize(func):\n",
    "    cache = {}\n",
    "    def wrapper(*args):\n",
    "        if args not in cache:\n",
    "            cache[args] = func(*args)\n",
    "        return cache[args]\n",
    "    return wrapper\n",
    "\n",
    "@memoize\n",
    "def fib(n):\n",
    "    if n <= 1:\n",
    "        return n\n",
    "    return fib(n-1) + fib(n-2)\n",
    "\n",
    "print(fib(10))  # Output: 55\n"
   ]
  },
  {
   "cell_type": "markdown",
   "metadata": {},
   "source": [
    "# Slicing\n",
    "\n",
    "Slicing in Python refers to extracting a portion of a sequence (such as a list, string, or tuple) using a concise syntax: sequence[start:stop:step]. Slicing is a fundamental feature in Python and works uniformly across various sequence types.\n",
    "\n",
    "C# has equivalent using LINQ\n",
    "\n",
    "``` csharp\n",
    "using System;\n",
    "using System.Linq;\n",
    "\n",
    "public class SlicingDemo\n",
    "{\n",
    "    public static void Main()\n",
    "    {\n",
    "        int[] numbers = { 0, 1, 2, 3, 4, 5 };\n",
    "\n",
    "        // Equivalent to numbers[1:4]\n",
    "        var slice = numbers.Skip(1).Take(3).ToArray();\n",
    "        Console.WriteLine(string.Join(\", \", slice)); // Output: 1, 2, 3\n",
    "\n",
    "        // Equivalent to numbers[:3]\n",
    "        var startSlice = numbers.Take(3).ToArray();\n",
    "        Console.WriteLine(string.Join(\", \", startSlice)); // Output: 0, 1, 2\n",
    "\n",
    "        // Equivalent to numbers[3:]\n",
    "        var endSlice = numbers.Skip(3).ToArray();\n",
    "        Console.WriteLine(string.Join(\", \", endSlice)); // Output: 3, 4, 5\n",
    "\n",
    "        // Reverse slice (Equivalent to numbers[::-1])\n",
    "        var reversed = numbers.Reverse().ToArray();\n",
    "        Console.WriteLine(string.Join(\", \", reversed)); // Output: 5, 4, 3, 2, 1, 0\n",
    "\n",
    "        // Create a segment equivalent to numbers[1:4]\n",
    "        var segment = new ArraySegment<int>(numbers, 1, 3);\n",
    "        Console.WriteLine(string.Join(\", \", segment)); // Output: 1, 2, 3\n",
    "    }\n",
    "}\n",
    "```\n",
    "\n",
    "## Basic Slicing"
   ]
  },
  {
   "cell_type": "code",
   "execution_count": 14,
   "metadata": {},
   "outputs": [
    {
     "name": "stdout",
     "output_type": "stream",
     "text": [
      "[1, 2, 3]\n",
      "ell\n"
     ]
    }
   ],
   "source": [
    "# Slicing a list\n",
    "numbers = [0, 1, 2, 3, 4, 5]\n",
    "print(numbers[1:4])  # Output: [1, 2, 3]\n",
    "\n",
    "# Slicing a string\n",
    "text = \"hello\"\n",
    "print(text[1:4])  # Output: \"ell\"\n"
   ]
  },
  {
   "cell_type": "markdown",
   "metadata": {},
   "source": [
    "## Omitting Start of Stop"
   ]
  },
  {
   "cell_type": "code",
   "execution_count": 15,
   "metadata": {},
   "outputs": [
    {
     "name": "stdout",
     "output_type": "stream",
     "text": [
      "[0, 1, 2]\n",
      "[3, 4, 5]\n"
     ]
    }
   ],
   "source": [
    "# Slice from the beginning to a specific index\n",
    "print(numbers[:3])  # Output: [0, 1, 2]\n",
    "\n",
    "# Slice from a specific index to the end\n",
    "print(numbers[3:])  # Output: [3, 4, 5]\n"
   ]
  },
  {
   "cell_type": "markdown",
   "metadata": {},
   "source": [
    "# Using Step"
   ]
  },
  {
   "cell_type": "code",
   "execution_count": 16,
   "metadata": {},
   "outputs": [
    {
     "name": "stdout",
     "output_type": "stream",
     "text": [
      "[0, 2, 4]\n",
      "[5, 4, 3, 2, 1, 0]\n"
     ]
    }
   ],
   "source": [
    "# Slice every second element\n",
    "print(numbers[::2])  # Output: [0, 2, 4]\n",
    "\n",
    "# Slice with a negative step (reversing)\n",
    "print(numbers[::-1])  # Output: [5, 4, 3, 2, 1, 0]\n"
   ]
  },
  {
   "cell_type": "markdown",
   "metadata": {},
   "source": [
    "## Slicing immutable"
   ]
  },
  {
   "cell_type": "code",
   "execution_count": 17,
   "metadata": {},
   "outputs": [
    {
     "name": "stdout",
     "output_type": "stream",
     "text": [
      "('b', 'c')\n"
     ]
    }
   ],
   "source": [
    "# Works with tuples and strings\n",
    "letters = (\"a\", \"b\", \"c\", \"d\")\n",
    "print(letters[1:3])  # Output: ('b', 'c')\n"
   ]
  },
  {
   "cell_type": "markdown",
   "metadata": {},
   "source": [
    "## Multi-dimensional"
   ]
  },
  {
   "cell_type": "code",
   "execution_count": 19,
   "metadata": {},
   "outputs": [
    {
     "name": "stdout",
     "output_type": "stream",
     "text": [
      "[[6]\n",
      " [9]]\n"
     ]
    }
   ],
   "source": [
    "import numpy as np\n",
    "\n",
    "matrix = np.array([[1, 2, 3], [4, 5, 6], [7, 8, 9]])\n",
    "print(matrix[1:, 2:])  # Output: [[5, 6], [8, 9]]\n"
   ]
  },
  {
   "cell_type": "markdown",
   "metadata": {},
   "source": [
    "## Copying a sequence"
   ]
  },
  {
   "cell_type": "code",
   "execution_count": 20,
   "metadata": {},
   "outputs": [
    {
     "name": "stdout",
     "output_type": "stream",
     "text": [
      "[1, 2, 3, 4]\n"
     ]
    }
   ],
   "source": [
    "# Full slice creates a copy\n",
    "numbers = [1, 2, 3, 4]\n",
    "numbers_copy = numbers[:]\n",
    "print(numbers_copy)  # Output: [1, 2, 3, 4]\n"
   ]
  }
 ],
 "metadata": {
  "kernelspec": {
   "display_name": "Python 3",
   "language": "python",
   "name": "python3"
  },
  "language_info": {
   "codemirror_mode": {
    "name": "ipython",
    "version": 3
   },
   "file_extension": ".py",
   "mimetype": "text/x-python",
   "name": "python",
   "nbconvert_exporter": "python",
   "pygments_lexer": "ipython3",
   "version": "3.12.1"
  }
 },
 "nbformat": 4,
 "nbformat_minor": 2
}
