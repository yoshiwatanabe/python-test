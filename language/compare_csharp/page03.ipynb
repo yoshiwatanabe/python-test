{
 "cells": [
  {
   "cell_type": "markdown",
   "metadata": {},
   "source": [
    "# Python feature that are not available in C#\n",
    "\n",
    "\n",
    "| **Aspect**                     | **C# Specification**                                             | **Python Specification**                                                          |\n",
    "|--------------------------------|------------------------------------------------------------------|-----------------------------------------------------------------------------------|\n",
    "| **Duck Typing**                | Not supported                                                   | Functions work with any object meeting the interface, regardless of its type      |\n",
    "| **First-Class Functions**      | Functions are objects but require explicit delegate types       | Functions are first-class objects; can be passed as arguments and returned        |\n",
    "| **Multiple Inheritance**       | Not supported (interfaces are used instead)                    | Supported directly with some complexity                                           |\n",
    "| **Built-in REPL**              | Not present in C# (interactive shell available via external tools like LINQPad) | Python includes a built-in REPL (e.g., `python` or Jupyter Notebook)              |\n",
    "| **Comprehensions**             | Not supported                                                   | Supports list, dictionary, and set comprehensions (e.g., `[x**2 for x in range(5)]`) |\n",
    "| **Dynamic Code Execution**     | Limited (`System.Reflection.Emit` or external scripting)        | Directly supports dynamic code execution using `exec()` and `eval()`              |\n",
    "| **Decorators**                 | Not directly supported                                          | Functionality and classes can be modified with decorators (e.g., `@staticmethod`) |\n",
    "| **Slicing**                    | Limited to some APIs                                            | Built-in slicing syntax for sequences (e.g., `my_list[1:4]`)                      |\n"
   ]
  }
 ],
 "metadata": {
  "language_info": {
   "name": "python"
  }
 },
 "nbformat": 4,
 "nbformat_minor": 2
}
