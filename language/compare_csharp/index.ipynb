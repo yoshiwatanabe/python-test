{
 "cells": [
  {
   "cell_type": "markdown",
   "metadata": {},
   "source": [
    "# Comparison of Python and C#\n",
    "\n",
    "### Features available in both Python and C#\n",
    "\n",
    "| **Aspect**                     | **C# Specification**                                             | **Python Specification**                                                          |\n",
    "|--------------------------------|------------------------------------------------------------------|-----------------------------------------------------------------------------------|\n",
    "| **Type System**                | Static typing (strongly typed)                                  | Dynamic typing (strongly typed)                                                   |\n",
    "| **Variable Declaration**       | Requires explicit type declaration (e.g., `int x = 10;`)       | No declaration needed. Type is determined during assignment (e.g., `x = 10`)      |\n",
    "| **Method Definition**          | Requires type specification and access modifiers (e.g., `public int Add(int a)`) | No type specification needed. Defined with `def` keyword (e.g., `def add(a, b):`) |\n",
    "| **Classes**                    | Requires explicit access modifiers and type annotations        | Simple definition. No type specifications or access modifiers required            |\n",
    "| **Properties**                 | Uses `get`/`set` for explicit definition                       | Defined using the `@property` decorator                                           |\n",
    "| **Exception Handling**         | `try-catch-finally`                                             | Similar but uses `except` (e.g., `try-except-finally`)                             |\n",
    "| **Collections**                | Generic collections (e.g., `List<int>`)                        | Standard collections include lists, dictionaries, tuples, and sets with flexible typing |\n",
    "| **Lambda Expressions**         | Uses `=>` operator (e.g., `(x, y) => x + y`)                   | Uses `lambda` keyword (e.g., `lambda x, y: x + y`)                                 |\n",
    "| **Threading/Async**            | Uses `Task`, `async/await`                                     | Similar with `async def` and `await`                                              |\n",
    "| **Operator Overloading**       | Defined explicitly with `operator`                             | Defined in classes using special methods like `__add__`, `__sub__`, etc.          |\n",
    "| **Modules/Namespaces**         | Uses namespaces (`namespace`)                                  | Uses modules (`import` keyword)                                                   |\n",
    "\n",
    "### Features Unique to Python\n",
    "| **Aspect**                     | **C# Specification**                                             | **Python Specification**                                                          |\n",
    "|--------------------------------|------------------------------------------------------------------|-----------------------------------------------------------------------------------|\n",
    "| **Duck Typing**                | Not supported                                                   | Functions work with any object meeting the interface, regardless of its type      |\n",
    "| **First-Class Functions**      | Functions are objects but require explicit delegate types       | Functions are first-class objects; can be passed as arguments and returned        |\n",
    "| **Multiple Inheritance**       | Not supported (interfaces are used instead)                    | Supported directly with some complexity                                           |\n",
    "| **Built-in REPL**              | Not present in C# (interactive shell available via external tools like LINQPad) | Python includes a built-in REPL (e.g., `python` or Jupyter Notebook)              |\n",
    "| **Comprehensions**             | Not supported                                                   | Supports list, dictionary, and set comprehensions (e.g., `[x**2 for x in range(5)]`) |\n",
    "| **Dynamic Code Execution**     | Limited (`System.Reflection.Emit` or external scripting)        | Directly supports dynamic code execution using `exec()` and `eval()`              |\n",
    "| **Decorators**                 | Not directly supported                                          | Functionality and classes can be modified with decorators (e.g., `@staticmethod`) |\n",
    "| **Slicing**                    | Limited to some APIs                                            | Built-in slicing syntax for sequences (e.g., `my_list[1:4]`)                      |\n",
    "\n",
    "### Features Python Does Not Support\n",
    "| **Aspect**                     | **C# Specification**                                             | **Python Specification**                                                          |\n",
    "|--------------------------------|------------------------------------------------------------------|-----------------------------------------------------------------------------------|\n",
    "| **Generics**                   | Fully supported (e.g., `List<T>`)                               | Not standard; uses type hints (e.g., `list[int]`)                                  |\n",
    "| **Extension Methods**          | Explicitly defined with `this` modifier                        | Not standard but can achieve similar functionality with monkey patching or decorators |\n",
    "| **Interfaces**                 | Explicitly defined (`interface` keyword)                      | No concept of interfaces; instead, protocol-based design is encouraged            |\n",
    "| **Delegates/Events**           | Requires delegate types and event definitions (`delegate`, `event`) | Directly pass function objects. Events must be explicitly implemented in classes   |"
   ]
  }
 ],
 "metadata": {
  "language_info": {
   "name": "python"
  }
 },
 "nbformat": 4,
 "nbformat_minor": 2
}
