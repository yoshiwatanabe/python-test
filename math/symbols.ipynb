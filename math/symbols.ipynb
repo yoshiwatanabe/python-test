{
 "cells": [
  {
   "cell_type": "markdown",
   "metadata": {},
   "source": [
    "# ギリシャ文字の読み方\n",
    "\n",
    "| ギリシャ文字 (大文字) | ギリシャ文字 (小文字) | カタカナ読み        |\n",
    "|-----------------------|-----------------------|--------------------|\n",
    "| Α (Alpha)            | α (alpha)            | アルファ           |\n",
    "| Β (Beta)             | β (beta)             | ベータ             |\n",
    "| Γ (Gamma)            | γ (gamma)            | ガンマ             |\n",
    "| Δ (Delta)            | δ (delta)            | デルタ             |\n",
    "| Ε (Epsilon)          | ε (epsilon)          | イプシロン         |\n",
    "| Ζ (Zeta)             | ζ (zeta)             | ゼータ             |\n",
    "| Η (Eta)              | η (eta)              | イータ             |\n",
    "| Θ (Theta)            | θ (theta)            | シータ             |\n",
    "| Ι (Iota)             | ι (iota)             | イオタ             |\n",
    "| Κ (Kappa)            | κ (kappa)            | カッパ             |\n",
    "| Λ (Lambda)           | λ (lambda)           | ラムダ             |\n",
    "| Μ (Mu)               | μ (mu)               | ミュー             |\n",
    "| Ν (Nu)               | ν (nu)               | ニュー             |\n",
    "| Ξ (Xi)               | ξ (xi)               | クシ               |\n",
    "| Ο (Omicron)          | ο (omicron)          | オミクロン         |\n",
    "| Π (Pi)               | π (pi)               | パイ               |\n",
    "| Ρ (Rho)              | ρ (rho)              | ロー               |\n",
    "| Σ (Sigma)            | σ (sigma)            | シグマ             |\n",
    "| Τ (Tau)              | τ (tau)              | タウ               |\n",
    "| Υ (Upsilon)          | υ (upsilon)          | ウプシロン         |\n",
    "| Φ (Phi)              | φ (phi)              | ファイ             |\n",
    "| Χ (Chi)              | χ (chi)              | カイ               |\n",
    "| Ψ (Psi)              | ψ (psi)              | プサイ             |\n",
    "| Ω (Omega)            | ω (omega)            | オメガ             |\n",
    "\n",
    "# 数学でよく使われるギリシャ文字\n",
    "\n",
    "| ギリシャ文字 | 数学での使われ方                        | 説明                                                         | 読み方         |\n",
    "|--------------|----------------------------------------|-------------------------------------------------------------|----------------|\n",
    "| $\\alpha$     | 角度、係数、変数                        | 三角形の角度や物理での係数としてよく用いられる。             | アルファ       |\n",
    "| $\\beta$      | 角度、ベータ分布、係数                  | 三角形の角度やベータ関数・ベータ分布に関連する。             | ベータ         |\n",
    "| $\\gamma$     | ガンマ関数、オイラー-マスケローニ定数   | 特殊関数の一つや定数 $\\gamma \\approx 0.577$ を表す。         | ガンマ         |\n",
    "| $\\Delta$     | 差分、変化量                           | 微分の有限差分や三角形の記号、大文字で変化量を表す。         | デルタ         |\n",
    "| $\\delta$     | ディラックのデルタ関数、小さい変化量     | ディラックデルタ関数や微小な変化を示す。                    | デルタ         |\n",
    "| $\\epsilon$   | 無限小量、誤差                         | 無限小の量や誤差の表記に使われる。                          | イプシロン     |\n",
    "| $\\zeta$      | リーマンゼータ関数                     | リーマンゼータ関数 $\\zeta(s)$ を表す。                       | ゼータ         |\n",
    "| $\\eta$       | 効率、変数                             | 効率（エネルギー効率など）や変数として用いられる。           | イータ         |\n",
    "| $\\theta$     | 角度、変数                             | 三角形や円における角度を表すことが多い。                     | シータ         |\n",
    "| $\\kappa$     | 曲率、比例定数                         | 曲率や物理学での比例定数として使用される。                   | カッパ         |\n",
    "| $\\lambda$    | 固有値、波長、率                       | 線型代数で固有値や物理で波長を表す。                         | ラムダ         |\n",
    "| $\\mu$        | 平均、透磁率、係数                     | 確率での平均や物理学で透磁率を表す。                         | ミュー         |\n",
    "| $\\nu$        | 周波数、ポアソン比                     | 振動数や弾性理論のポアソン比に関連する。                     | ニュー         |\n",
    "| $\\xi$        | 無次元量、ランダム変数                 | 特定の無次元量や確率論でランダム変数として使用。             | クシ           |\n",
    "| $\\pi$        | 円周率                                 | 円周率 $\\pi \\approx 3.14159$。                              | パイ           |\n",
    "| $\\rho$       | 密度、相関係数                        | 物理での密度や統計での相関係数を表す。                      | ロー           |\n",
    "| $\\sigma$     | 標準偏差、合計、応力                   | 統計の標準偏差や総和記号、応力を表す。                      | シグマ         |\n",
    "| $\\tau$       | 時間定数、円周率の2倍                 | 時間定数や $\\tau = 2\\pi$ として円周の一周を表す。            | タウ           |\n",
    "| $\\phi$       | 黄金比、角度                          | 黄金比 $\\phi \\approx 1.618$ や角度で使用される。             | ファイ         |\n",
    "| $\\chi$       | カイ二乗分布、特性関数                | 統計でのカイ二乗分布や特性関数を表す。                      | カイ           |\n",
    "| $\\psi$       | 波動関数、角速度                      | 量子力学の波動関数や物理での角速度に関連。                  | プサイ         |\n",
    "| $\\omega$     | 角速度、自然周波数、集合の極限点      | 円運動の角速度や振動の自然周波数、極限点を表す。             | オメガ         |\n",
    "\n",
    "\n",
    "# sympy を使ってコードからギリシャ文字を含む数式を表示\n"
   ]
  },
  {
   "cell_type": "code",
   "execution_count": 2,
   "metadata": {},
   "outputs": [
    {
     "data": {
      "image/png": "[encoded data removed]",
      "text/latex": [
       "$\\displaystyle 1 = \\sin{\\left(\\theta \\right)} + \\cos{\\left(\\theta \\right)}$"
      ],
      "text/plain": [
       "1 = sin(θ) + cos(θ)"
      ]
     },
     "metadata": {},
     "output_type": "display_data"
    },
    {
     "data": {
      "image/png": "[encoded data removed]",
      "text/latex": [
       "$\\displaystyle 2 \\pi \\rho = C$"
      ],
      "text/plain": [
       "2⋅π⋅ρ = C"
      ]
     },
     "metadata": {},
     "output_type": "display_data"
    },
    {
     "data": {
      "image/png": "[encoded data removed]",
      "text/latex": [
       "$\\displaystyle 0.5 \\rho^{2} \\sin{\\left(\\alpha \\right)} = A$"
      ],
      "text/plain": [
       "     2           \n",
       "0.5⋅ρ ⋅sin(α) = A"
      ]
     },
     "metadata": {},
     "output_type": "display_data"
    },
    {
     "data": {
      "image/png": "[encoded data removed]",
      "text/latex": [
       "$\\displaystyle \\mu e^{- \\lambda \\rho} = N$"
      ],
      "text/plain": [
       "   -λ⋅ρ    \n",
       "μ⋅ℯ     = N"
      ]
     },
     "metadata": {},
     "output_type": "display_data"
    },
    {
     "data": {
      "image/png": "[encoded data removed]",
      "text/latex": [
       "$\\displaystyle \\phi = \\frac{1}{2} + \\frac{\\sqrt{5}}{2}$"
      ],
      "text/plain": [
       "    1   √5\n",
       "φ = ─ + ──\n",
       "    2   2 "
      ]
     },
     "metadata": {},
     "output_type": "display_data"
    },
    {
     "data": {
      "image/png": "[encoded data removed]",
      "text/latex": [
       "$\\displaystyle \\frac{\\nu^{2}}{2} + \\frac{\\nu}{2} = S$"
      ],
      "text/plain": [
       " 2        \n",
       "ν    ν    \n",
       "── + ─ = S\n",
       "2    2    "
      ]
     },
     "metadata": {},
     "output_type": "display_data"
    },
    {
     "data": {
      "image/png": "[encoded data removed]",
      "text/latex": [
       "$\\displaystyle \\Gamma\\left(\\zeta\\right) = \\int\\limits_{0}^{\\infty} \\xi^{\\zeta - 1} e^{- \\xi}\\, d\\xi$"
      ],
      "text/plain": [
       "       ∞              \n",
       "       ⌠              \n",
       "       ⎮  ζ - 1  -ξ   \n",
       "Γ(ζ) = ⎮ ξ     ⋅ℯ   dξ\n",
       "       ⌡              \n",
       "       0              "
      ]
     },
     "metadata": {},
     "output_type": "display_data"
    }
   ],
   "source": [
    "from sympy import symbols, sin, cos, pi, sqrt, gamma as GammaFunction, summation, oo, Eq, exp, Integral\n",
    "from sympy.abc import alpha, beta, delta, epsilon, zeta, eta, theta, kappa, mu, nu, xi, rho, sigma, tau, phi, chi, psi, omega\n",
    "from sympy import init_printing\n",
    "\n",
    "init_printing()  # Enable pretty printing for better display\n",
    "\n",
    "# Define lambda explicitly\n",
    "lambda_ = symbols('lambda')\n",
    "\n",
    "# Rename the symbol `gamma` to avoid conflict\n",
    "gamma_symbol = symbols('gamma')\n",
    "\n",
    "# Examples of Greek letters in common mathematical contexts\n",
    "\n",
    "# 1. Trigonometric function with theta\n",
    "theta_expr = sin(theta) + cos(theta)\n",
    "\n",
    "# 2. Circle's circumference using pi\n",
    "circle_circumference = Eq(2 * pi * rho, symbols('C'))  # 2πr = C\n",
    "\n",
    "# 3. Area of a triangle with alpha and beta as angles\n",
    "triangle_area = Eq(1 / 2 * rho**2 * sin(alpha), symbols('A'))\n",
    "\n",
    "# 4. Exponential and lambda (decay constant)\n",
    "decay_expression = Eq(mu * exp(-lambda_ * rho), symbols('N'))\n",
    "\n",
    "# 5. Golden ratio with phi\n",
    "golden_ratio = Eq(phi, (1 + sqrt(5)) / 2)\n",
    "\n",
    "# 6. Summation with sigma\n",
    "sigma_sum = Eq(summation(kappa, (kappa, 1, nu)), symbols('S'))\n",
    "\n",
    "# 7. Gamma function\n",
    "gamma_function = Eq(GammaFunction(zeta), Integral((xi ** (zeta - 1)) * exp(-xi), (xi, 0, oo)))\n",
    "\n",
    "# Display all equations\n",
    "display(\n",
    "    Eq(symbols('1'), theta_expr),  # Trigonometric example\n",
    "    circle_circumference,  # Circle circumference\n",
    "    triangle_area,  # Triangle area\n",
    "    decay_expression,  # Exponential decay\n",
    "    golden_ratio,  # Golden ratio\n",
    "    sigma_sum,  # Summation\n",
    "    gamma_function  # Gamma function\n",
    ")\n"
   ]
  },
  {
   "cell_type": "markdown",
   "metadata": {},
   "source": [
    "# マークダウンを使って数式を表示する\n",
    "\n",
    "\n",
    "---\n",
    "\n",
    "### 四則演算 (Addition, Subtraction, Multiplication, Division)\n",
    "\n",
    "- 加算: ``$a + b$`` → $a + b$\n",
    "- 減算: ``$a - b$`` → $a - b$\n",
    "- 乗算: ``$a \\times b$`` または ``$ab$`` → $a \\times b$ または $ab$\n",
    "- 除算: ``$\\frac{a}{b}$`` → $\\frac{a}{b}$\n",
    "\n",
    "---\n",
    "\n",
    "### 分数 (Fractions)\n",
    "\n",
    "- 単純な分数: ``$\\frac{3}{4}$`` → $\\frac{3}{4}$\n",
    "- 分母が分数: ``$\\frac{1}{\\frac{2}{3}}$`` → $\\frac{1}{\\frac{2}{3}}$\n",
    "- 複雑な分数: ``$\\frac{\\frac{1}{a} + \\frac{1}{b}}{c}$`` → $\\frac{\\frac{1}{a} + \\frac{1}{b}}{c}$\n",
    "\n",
    "---\n",
    "\n",
    "### 少数 (Decimals)\n",
    "\n",
    "- 少数の例: ``$3.14159$`` → $3.14159$\n",
    "- 数値の近似: ``$0.333 \\approx \\frac{1}{3}$`` → $0.333 \\approx \\frac{1}{3}$\n",
    "\n",
    "---\n",
    "\n",
    "### 指数と根号 (Exponents and Radicals)\n",
    "\n",
    "- 指数: ``$a^b$`` → $a^b$\n",
    "- 平方根: ``$\\sqrt{a}$`` → $\\sqrt{a}$\n",
    "- 高次の根: ``$\\sqrt[n]{a}$`` → $\\sqrt[n]{a}$\n",
    "- 指数法則: ``$a^{m+n} = a^m \\cdot a^n$`` → $a^{m+n} = a^m \\cdot a^n$\n",
    "\n",
    "---\n",
    "\n",
    "### 対数関数 (Logarithmic Functions)\n",
    "\n",
    "- 自然対数: ``$\\ln(x)$`` → $\\ln(x)$\n",
    "- 常用対数: ``$\\log_{10}(x)$`` → $\\log_{10}(x)$\n",
    "- 任意の底の対数: ``$\\log_a(b)$`` → $\\log_a(b)$\n",
    "\n",
    "---\n",
    "\n",
    "### 微分 (Differentiation)\n",
    "\n",
    "- 一般的な微分: ``$\\frac{d}{dx} f(x)$`` → $\\frac{d}{dx} f(x)$\n",
    "- 具体例: ``$\\frac{d}{dx} x^2 = 2x$`` → $\\frac{d}{dx} x^2 = 2x$\n",
    "- 高階微分: ``$\\frac{d^2}{dx^2} f(x)$`` → $\\frac{d^2}{dx^2} f(x)$\n",
    "\n",
    "---\n",
    "\n",
    "### 積分 (Integration)\n",
    "\n",
    "- 定積分: ``$\\int_{a}^{b} f(x) \\, dx$`` → $\\int_{a}^{b} f(x) \\, dx$\n",
    "- 不定積分: ``$\\int f(x) \\, dx$`` → $\\int f(x) \\, dx$\n",
    "- 例: ``$\\int x^2 \\, dx = \\frac{x^3}{3} + C$`` → $\\int x^2 \\, dx = \\frac{x^3}{3} + C$\n",
    "\n",
    "---\n",
    "\n",
    "### 和と積 (Summations and Products)\n",
    "\n",
    "- 和の記号: ``$\\sum_{i=1}^n i = \\frac{n(n+1)}{2}$`` → $\\sum_{i=1}^n i = \\frac{n(n+1)}{2}$\n",
    "- 積の記号: ``$\\prod_{i=1}^n i = n!$`` → $\\prod_{i=1}^n i = n!$\n",
    "\n",
    "---\n",
    "\n",
    "### 絶対値と階乗 (Absolute Values and Factorials)\n",
    "\n",
    "- 絶対値: ``$|x|$`` → $|x|$\n",
    "- 階乗: ``$n! = n \\cdot (n-1) \\cdot \\cdots \\cdot 1$`` → $n! = n \\cdot (n-1) \\cdot \\cdots \\cdot 1$\n",
    "\n",
    "---\n",
    "\n",
    "### 行列とベクトル (Matrices and Vectors)\n",
    "\n",
    "- ベクトル: ``$\\mathbf{v} = \\begin{bmatrix} v_1 \\\\ v_2 \\\\ v_3 \\end{bmatrix}$`` → $\\mathbf{v} = \\begin{bmatrix} v_1 \\\\ v_2 \\\\ v_3 \\end{bmatrix}$\n",
    "- 行列: ``$A = \\begin{bmatrix} a & b \\\\ c & d \\end{bmatrix}$`` → $A = \\begin{bmatrix} a & b \\\\ c & d \\end{bmatrix}$\n",
    "- 行列積: ``$AB = \\begin{bmatrix} a & b \\\\ c & d \\end{bmatrix} \\begin{bmatrix} e & f \\\\ g & h \\end{bmatrix}$`` → $AB = \\begin{bmatrix} a & b \\\\ c & d \\end{bmatrix} \\begin{bmatrix} e & f \\\\ g & h \\end{bmatrix}$\n",
    "\n",
    "---\n",
    "\n",
    "### その他の一般的な記号 (Other Common Symbols)\n",
    "\n",
    "- 無限大: ``$\\infty$`` → $\\infty$\n",
    "- 比例記号: ``$y \\propto x$`` → $y \\propto x$\n",
    "- 微小変化: ``$\\Delta x$`` → $\\Delta x$\n",
    "- 極限: ``$\\lim_{x \\to a} f(x)$`` → $\\lim_{x \\to a} f(x)$\n",
    "\n",
    "---\n",
    "\n",
    "### 例として複数要素を含む式\n",
    "\n",
    "- 複雑な数式の例:  \n",
    "  ``$$f(x) = \\int_{0}^{\\infty} e^{-x^2} \\, dx + \\sum_{n=1}^\\infty \\frac{1}{n^2} + \\ln(\\sqrt{x^2 + 1})$$``  \n",
    "  →  \n",
    "  $$\n",
    "  f(x) = \\int_{0}^{\\infty} e^{-x^2} \\, dx + \\sum_{n=1}^\\infty \\frac{1}{n^2} + \\ln(\\sqrt{x^2 + 1})\n",
    "  $$\n",
    "\n",
    "---\n",
    "\n",
    "# sympy を使ってコードで数式を表示する"
   ]
  },
  {
   "cell_type": "code",
   "execution_count": 6,
   "metadata": {},
   "outputs": [
    {
     "data": {
      "image/png": "[encoded data removed]",
      "text/latex": [
       "$\\displaystyle a + b = Result$"
      ],
      "text/plain": [
       "a + b = Result"
      ]
     },
     "metadata": {},
     "output_type": "display_data"
    },
    {
     "data": {
      "image/png": "[encoded data removed]",
      "text/latex": [
       "$\\displaystyle a - b = Result$"
      ],
      "text/plain": [
       "a - b = Result"
      ]
     },
     "metadata": {},
     "output_type": "display_data"
    },
    {
     "data": {
      "image/png": "[encoded data removed]",
      "text/latex": [
       "$\\displaystyle a b = Result$"
      ],
      "text/plain": [
       "a⋅b = Result"
      ]
     },
     "metadata": {},
     "output_type": "display_data"
    },
    {
     "data": {
      "image/png": "[encoded data removed]",
      "text/latex": [
       "$\\displaystyle \\frac{a}{b} = Result$"
      ],
      "text/plain": [
       "a         \n",
       "─ = Result\n",
       "b         "
      ]
     },
     "metadata": {},
     "output_type": "display_data"
    },
    {
     "data": {
      "image/png": "[encoded data removed]",
      "text/latex": [
       "$\\displaystyle \\frac{a}{b} = Fraction$"
      ],
      "text/plain": [
       "a           \n",
       "─ = Fraction\n",
       "b           "
      ]
     },
     "metadata": {},
     "output_type": "display_data"
    },
    {
     "data": {
      "image/png": "[encoded data removed]",
      "text/latex": [
       "$\\displaystyle \\frac{a x}{b} = \\left( Complex, \\  Fraction\\right)$"
      ],
      "text/plain": [
       "a⋅x                      \n",
       "─── = (Complex, Fraction)\n",
       " b                       "
      ]
     },
     "metadata": {},
     "output_type": "display_data"
    },
    {
     "data": {
      "image/png": "[encoded data removed]",
      "text/latex": [
       "$\\displaystyle \\frac{\\frac{1}{b} + \\frac{1}{a}}{x} = \\left( Nested, \\  Fraction\\right)$"
      ],
      "text/plain": [
       "1   1                     \n",
       "─ + ─                     \n",
       "b   a                     \n",
       "───── = (Nested, Fraction)\n",
       "  x                       "
      ]
     },
     "metadata": {},
     "output_type": "display_data"
    },
    {
     "data": {
      "image/png": "[encoded data removed]",
      "text/latex": [
       "$\\displaystyle 3.14159 = Decimal$"
      ],
      "text/plain": [
       "3.14159 = Decimal"
      ]
     },
     "metadata": {},
     "output_type": "display_data"
    },
    {
     "data": {
      "image/png": "[encoded data removed]",
      "text/latex": [
       "$\\displaystyle 0.333 = 0.333333333333333$"
      ],
      "text/plain": [
       "0.333 = 0.333333333333333"
      ]
     },
     "metadata": {},
     "output_type": "display_data"
    },
    {
     "data": {
      "image/png": "[encoded data removed]",
      "text/latex": [
       "$\\displaystyle a^{b} = Exponent$"
      ],
      "text/plain": [
       " b           \n",
       "a  = Exponent"
      ]
     },
     "metadata": {},
     "output_type": "display_data"
    },
    {
     "data": {
      "image/png": "[encoded data removed]",
      "text/latex": [
       "$\\displaystyle \\sqrt{a} = \\left( Square, \\  Root\\right)$"
      ],
      "text/plain": [
       "√a = (Square, Root)"
      ]
     },
     "metadata": {},
     "output_type": "display_data"
    },
    {
     "data": {
      "image/png": "[encoded data removed]",
      "text/latex": [
       "$\\displaystyle a^{\\frac{1}{n}} = \\left( Nth, \\  Root\\right)$"
      ],
      "text/plain": [
       "n ___              \n",
       "╲╱ a  = (Nth, Root)"
      ]
     },
     "metadata": {},
     "output_type": "display_data"
    },
    {
     "data": {
      "image/png": "[encoded data removed]",
      "text/latex": [
       "$\\displaystyle \\log{\\left(x \\right)} = \\left( Natural, \\  Logarithm\\right)$"
      ],
      "text/plain": [
       "log(x) = (Natural, Logarithm)"
      ]
     },
     "metadata": {},
     "output_type": "display_data"
    },
    {
     "data": {
      "image/png": "[encoded data removed]",
      "text/latex": [
       "$\\displaystyle \\frac{\\log{\\left(x \\right)}}{\\log{\\left(10 \\right)}} = \\left( Common, \\  Logarithm\\right)$"
      ],
      "text/plain": [
       "log(x)                       \n",
       "─────── = (Common, Logarithm)\n",
       "log(10)                      "
      ]
     },
     "metadata": {},
     "output_type": "display_data"
    },
    {
     "data": {
      "image/png": "[encoded data removed]",
      "text/latex": [
       "$\\displaystyle \\frac{\\log{\\left(x \\right)}}{\\log{\\left(a \\right)}} = \\left( Logarithm, \\  with, \\  Base, \\  a\\right)$"
      ],
      "text/plain": [
       "log(x)                             \n",
       "────── = (Logarithm, with, Base, a)\n",
       "log(a)                             "
      ]
     },
     "metadata": {},
     "output_type": "display_data"
    },
    {
     "data": {
      "image/png": "[encoded data removed]",
      "text/latex": [
       "$\\displaystyle \\frac{d}{d x} f{\\left(x \\right)}$"
      ],
      "text/plain": [
       "d       \n",
       "──(f(x))\n",
       "dx      "
      ]
     },
     "metadata": {},
     "output_type": "display_data"
    },
    {
     "data": {
      "image/png": "[encoded data removed]",
      "text/latex": [
       "$\\displaystyle 2 x$"
      ],
      "text/plain": [
       "2⋅x"
      ]
     },
     "metadata": {},
     "output_type": "display_data"
    },
    {
     "data": {
      "image/png": "[encoded data removed]",
      "text/latex": [
       "$\\displaystyle \\frac{d^{2}}{d x^{2}} f{\\left(x \\right)}$"
      ],
      "text/plain": [
       " 2       \n",
       "d        \n",
       "───(f(x))\n",
       "  2      \n",
       "dx       "
      ]
     },
     "metadata": {},
     "output_type": "display_data"
    },
    {
     "data": {
      "image/png": "[encoded data removed]",
      "text/latex": [
       "$\\displaystyle \\int f{\\left(x \\right)}\\, dx$"
      ],
      "text/plain": [
       "⌠        \n",
       "⎮ f(x) dx\n",
       "⌡        "
      ]
     },
     "metadata": {},
     "output_type": "display_data"
    },
    {
     "data": {
      "image/png": "[encoded data removed]",
      "text/latex": [
       "$\\displaystyle \\frac{1}{3}$"
      ],
      "text/plain": [
       "1/3"
      ]
     },
     "metadata": {},
     "output_type": "display_data"
    },
    {
     "data": {
      "image/png": "[encoded data removed]",
      "text/latex": [
       "$\\displaystyle \\frac{x^{3}}{3} = C + \\frac{x^{3}}{3}$"
      ],
      "text/plain": [
       " 3        3\n",
       "x        x \n",
       "── = C + ──\n",
       "3        3 "
      ]
     },
     "metadata": {},
     "output_type": "display_data"
    },
    {
     "data": {
      "image/png": "[encoded data removed]",
      "text/latex": [
       "$\\displaystyle \\sum_{a=1}^{n} a$"
      ],
      "text/plain": [
       "  n    \n",
       " ___   \n",
       " ╲     \n",
       "  ╲    \n",
       "  ╱   a\n",
       " ╱     \n",
       " ‾‾‾   \n",
       "a = 1  "
      ]
     },
     "metadata": {},
     "output_type": "display_data"
    },
    {
     "data": {
      "image/png": "[encoded data removed]",
      "text/latex": [
       "$\\displaystyle \\prod_{a=1}^{n} a$"
      ],
      "text/plain": [
       "  n    \n",
       "─┬─┬─  \n",
       " │ │  a\n",
       " │ │   \n",
       "a = 1  "
      ]
     },
     "metadata": {},
     "output_type": "display_data"
    },
    {
     "data": {
      "image/png": "[encoded data removed]",
      "text/latex": [
       "$\\displaystyle \\left|{x}\\right| = \\left( Absolute, \\  Value\\right)$"
      ],
      "text/plain": [
       "│x│ = (Absolute, Value)"
      ]
     },
     "metadata": {},
     "output_type": "display_data"
    },
    {
     "data": {
      "image/png": "[encoded data removed]",
      "text/latex": [
       "$\\displaystyle n!$"
      ],
      "text/plain": [
       "n!"
      ]
     },
     "metadata": {},
     "output_type": "display_data"
    },
    {
     "data": {
      "text/latex": [
       "$\\displaystyle \\left[\\begin{matrix}v_{1}\\\\v_{2}\\\\v_{3}\\end{matrix}\\right]$"
      ],
      "text/plain": [
       "⎡v₁⎤\n",
       "⎢  ⎥\n",
       "⎢v₂⎥\n",
       "⎢  ⎥\n",
       "⎣v₃⎦"
      ]
     },
     "metadata": {},
     "output_type": "display_data"
    },
    {
     "data": {
      "text/latex": [
       "$\\displaystyle \\left[\\begin{matrix}a & b\\\\c & d\\end{matrix}\\right]$"
      ],
      "text/plain": [
       "⎡a  b⎤\n",
       "⎢    ⎥\n",
       "⎣c  d⎦"
      ]
     },
     "metadata": {},
     "output_type": "display_data"
    },
    {
     "data": {
      "text/latex": [
       "$\\displaystyle \\left[\\begin{matrix}a e + b g & a f + b h\\\\c e + d g & c f + d h\\end{matrix}\\right]$"
      ],
      "text/plain": [
       "⎡a⋅e + b⋅g  a⋅f + b⋅h⎤\n",
       "⎢                    ⎥\n",
       "⎣c⋅e + d⋅g  c⋅f + d⋅h⎦"
      ]
     },
     "metadata": {},
     "output_type": "display_data"
    },
    {
     "data": {
      "image/png": "[encoded data removed]",
      "text/latex": [
       "$\\displaystyle \\infty = Infinity$"
      ],
      "text/plain": [
       "∞ = Infinity"
      ]
     },
     "metadata": {},
     "output_type": "display_data"
    },
    {
     "data": {
      "image/png": "[encoded data removed]",
      "text/latex": [
       "$\\displaystyle y = Proportional x$"
      ],
      "text/plain": [
       "y = Proportional⋅x"
      ]
     },
     "metadata": {},
     "output_type": "display_data"
    },
    {
     "data": {
      "image/png": "[encoded data removed]",
      "text/latex": [
       "$\\displaystyle \\Delta x = \\left( \\Delta, \\  x\\right)$"
      ],
      "text/plain": [
       "Δ⋅x = (Δ, x)"
      ]
     },
     "metadata": {},
     "output_type": "display_data"
    },
    {
     "data": {
      "image/png": "[encoded data removed]",
      "text/latex": [
       "$\\displaystyle lim_{x \\to a} f(x) = Limit$"
      ],
      "text/plain": [
       "lim_{x \\to a} f(x) = Limit"
      ]
     },
     "metadata": {},
     "output_type": "display_data"
    }
   ],
   "source": [
    "from sympy import symbols, Symbol, sin, cos, pi, sqrt, log, diff, integrate, factorial, Sum, Product, Matrix, oo\n",
    "from sympy.abc import a, b, x, n, C\n",
    "\n",
    "from sympy import init_printing, Eq, Function\n",
    "init_printing()  # Enable pretty LaTeX rendering in Jupyter Notebook\n",
    "\n",
    "# 定義するシンボルや関数\n",
    "y = symbols('y')\n",
    "Delta = symbols('Delta')  # Delta を明示的に定義\n",
    "f = Function('f')\n",
    "\n",
    "# 1. 四則演算\n",
    "display(Eq(a + b, symbols('Result'), evaluate=False))  # 加算\n",
    "display(Eq(a - b, symbols('Result'), evaluate=False))  # 減算\n",
    "display(Eq(a * b, symbols('Result'), evaluate=False))  # 乗算\n",
    "display(Eq(a / b, symbols('Result'), evaluate=False))  # 除算\n",
    "\n",
    "# 2. 分数\n",
    "display(Eq(a / b, symbols('Fraction'), evaluate=False))  # 単純な分数\n",
    "display(Eq(a / (b / x), symbols('Complex Fraction'), evaluate=False))  # 分母が分数\n",
    "display(Eq((1 / a + 1 / b) / x, symbols('Nested Fraction'), evaluate=False))  # 複雑な分数\n",
    "\n",
    "# 3. 少数\n",
    "display(Eq(3.14159, symbols('Decimal'), evaluate=False))  # 少数\n",
    "display(Eq(0.333, 1 / 3, evaluate=False))  # 近似\n",
    "\n",
    "# 4. 指数と根号\n",
    "display(Eq(a**b, symbols('Exponent'), evaluate=False))  # 指数\n",
    "display(Eq(sqrt(a), symbols('Square Root'), evaluate=False))  # 平方根\n",
    "display(Eq(a**(1/n), symbols('Nth Root'), evaluate=False))  # 高次の根\n",
    "\n",
    "# 5. 対数関数\n",
    "display(Eq(log(x), symbols('Natural Logarithm'), evaluate=False))  # 自然対数\n",
    "display(Eq(log(x, 10), symbols('Common Logarithm'), evaluate=False))  # 常用対数\n",
    "display(Eq(log(x, a), symbols('Logarithm with Base a'), evaluate=False))  # 任意の底の対数\n",
    "\n",
    "# 6. 微分\n",
    "display(diff(f(x), x))  # 一般的な微分\n",
    "display(diff(x**2, x))  # 具体例\n",
    "display(diff(f(x), x, 2))  # 高階微分\n",
    "\n",
    "# 7. 積分\n",
    "display(integrate(f(x), x))  # 不定積分\n",
    "display(integrate(x**2, (x, 0, 1)))  # 定積分\n",
    "display(Eq(integrate(x**2, x), x**3 / 3 + C, evaluate=False))  # 定数付き\n",
    "\n",
    "# 8. 和と積\n",
    "display(Sum(a, (a, 1, n)))  # 和の記号\n",
    "display(Product(a, (a, 1, n)))  # 積の記号\n",
    "\n",
    "# 9. 絶対値と階乗\n",
    "display(Eq(abs(x), symbols('Absolute Value'), evaluate=False))  # 絶対値\n",
    "display(factorial(n))  # 階乗\n",
    "\n",
    "# 10. 行列とベクトル\n",
    "v = Matrix([symbols('v1'), symbols('v2'), symbols('v3')])  # ベクトル\n",
    "A = Matrix([[symbols('a'), symbols('b')], [symbols('c'), symbols('d')]])  # 行列\n",
    "B = Matrix([[symbols('e'), symbols('f')], [symbols('g'), symbols('h')]])\n",
    "display(v)  # ベクトル\n",
    "display(A)  # 行列\n",
    "display(A * B)  # 行列積\n",
    "\n",
    "# 11. その他の一般的な記号\n",
    "display(Eq(oo, symbols('Infinity'), evaluate=False))  # 無限大\n",
    "display(Eq(y, x * symbols('Proportional'), evaluate=False))  # 比例記号\n",
    "display(Eq(Delta * x, symbols('Delta x'), evaluate=False))  # 微小変化\n",
    "display(Eq(Symbol(r'lim_{x \\to a} f(x)'), symbols('Limit'), evaluate=False))  # 極限\n",
    "\n"
   ]
  },
  {
   "cell_type": "code",
   "execution_count": null,
   "metadata": {},
   "outputs": [],
   "source": []
  }
 ],
 "metadata": {
  "kernelspec": {
   "display_name": "Python 3",
   "language": "python",
   "name": "python3"
  },
  "language_info": {
   "codemirror_mode": {
    "name": "ipython",
    "version": 3
   },
   "file_extension": ".py",
   "mimetype": "text/x-python",
   "name": "python",
   "nbconvert_exporter": "python",
   "pygments_lexer": "ipython3",
   "version": "3.12.1"
  }
 },
 "nbformat": 4,
 "nbformat_minor": 2
}
